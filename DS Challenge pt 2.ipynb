{
 "cells": [
  {
   "cell_type": "markdown",
   "metadata": {},
   "source": [
    "# DS Challenge - Part 2"
   ]
  },
  {
   "cell_type": "markdown",
   "metadata": {},
   "source": [
    "The steps taken here will be the following:\n",
    "\n",
    "- Data investigation and manipulation\n",
    "- Create modelling data\n",
    "- Model using logisitic regression\n",
    "\n",
    "Given the timeframe of the task - data manipulation and feature construction will be simplified. More time would be required to do deeper feature reduction and selection\n",
    "\n",
    "Modelling was produced using 'off the shelf' code, which was tweaked to be relevant"
   ]
  },
  {
   "cell_type": "code",
   "execution_count": 1,
   "metadata": {},
   "outputs": [],
   "source": [
    "# import libs\n",
    "\n",
    "import pandas as pd\n",
    "import numpy as np"
   ]
  },
  {
   "cell_type": "code",
   "execution_count": 64,
   "metadata": {},
   "outputs": [],
   "source": [
    "import datetime as dt\n",
    "today = dt.datetime(2017,5,31)"
   ]
  },
  {
   "cell_type": "code",
   "execution_count": 2,
   "metadata": {},
   "outputs": [],
   "source": [
    "#dsiplay all columns\n",
    "pd.set_option('display.max_columns', None)\n",
    "\n",
    "#display longer string for columsn\n",
    "pd.options.display.max_colwidth = 150"
   ]
  },
  {
   "cell_type": "code",
   "execution_count": 47,
   "metadata": {},
   "outputs": [],
   "source": [
    "df_order_all = pd.read_csv(r'C:\\Users\\Suhaib.Qazi\\Downloads\\DS-Challenge\\order_details.txt', sep=\"\\t\")\n",
    "df_visits_all = pd.read_csv(r'C:\\Users\\Suhaib.Qazi\\Downloads\\DS-Challenge\\visits.txt', sep=\"\\t\")"
   ]
  },
  {
   "cell_type": "code",
   "execution_count": 10,
   "metadata": {
    "scrolled": true
   },
   "outputs": [
    {
     "data": {
      "text/html": [
       "<div>\n",
       "<style scoped>\n",
       "    .dataframe tbody tr th:only-of-type {\n",
       "        vertical-align: middle;\n",
       "    }\n",
       "\n",
       "    .dataframe tbody tr th {\n",
       "        vertical-align: top;\n",
       "    }\n",
       "\n",
       "    .dataframe thead th {\n",
       "        text-align: right;\n",
       "    }\n",
       "</style>\n",
       "<table border=\"1\" class=\"dataframe\">\n",
       "  <thead>\n",
       "    <tr style=\"text-align: right;\">\n",
       "      <th></th>\n",
       "      <th>member_id</th>\n",
       "      <th>order_id</th>\n",
       "      <th>order_date</th>\n",
       "      <th>item_category_id</th>\n",
       "      <th>item_subcategory_id</th>\n",
       "      <th>rev_gbp</th>\n",
       "    </tr>\n",
       "  </thead>\n",
       "  <tbody>\n",
       "    <tr>\n",
       "      <th>0</th>\n",
       "      <td>859a1b2a5fba4552f3a85642c5bf9a7e</td>\n",
       "      <td>357d65f145e2b2883397b22ffd146ccb</td>\n",
       "      <td>2017-06-16</td>\n",
       "      <td>3</td>\n",
       "      <td>31</td>\n",
       "      <td>1.83</td>\n",
       "    </tr>\n",
       "    <tr>\n",
       "      <th>1</th>\n",
       "      <td>f3d20a744e8b977cc8ed98498c5ad155</td>\n",
       "      <td>c017417d3e209de3e444517767c2bcee</td>\n",
       "      <td>2017-01-23</td>\n",
       "      <td>1</td>\n",
       "      <td>13</td>\n",
       "      <td>1.51</td>\n",
       "    </tr>\n",
       "    <tr>\n",
       "      <th>2</th>\n",
       "      <td>2d9c971585b8ac6766c3df151400f0d4</td>\n",
       "      <td>7dbf66239dd3b1af8314fab826e211c0</td>\n",
       "      <td>2016-12-06</td>\n",
       "      <td>1</td>\n",
       "      <td>13</td>\n",
       "      <td>6.97</td>\n",
       "    </tr>\n",
       "    <tr>\n",
       "      <th>3</th>\n",
       "      <td>7422af475194df996c1c7f9f9988beb1</td>\n",
       "      <td>38c3cb8d770c9f8f04b77f4312dac1a1</td>\n",
       "      <td>2017-04-17</td>\n",
       "      <td>3</td>\n",
       "      <td>31</td>\n",
       "      <td>7.57</td>\n",
       "    </tr>\n",
       "    <tr>\n",
       "      <th>4</th>\n",
       "      <td>e3a4131d67aee3f351bda573a9fc6529</td>\n",
       "      <td>2f693ef1a7f5183099951a025840c3dc</td>\n",
       "      <td>2016-07-10</td>\n",
       "      <td>1</td>\n",
       "      <td>13</td>\n",
       "      <td>1.73</td>\n",
       "    </tr>\n",
       "  </tbody>\n",
       "</table>\n",
       "</div>"
      ],
      "text/plain": [
       "                          member_id                          order_id  \\\n",
       "0  859a1b2a5fba4552f3a85642c5bf9a7e  357d65f145e2b2883397b22ffd146ccb   \n",
       "1  f3d20a744e8b977cc8ed98498c5ad155  c017417d3e209de3e444517767c2bcee   \n",
       "2  2d9c971585b8ac6766c3df151400f0d4  7dbf66239dd3b1af8314fab826e211c0   \n",
       "3  7422af475194df996c1c7f9f9988beb1  38c3cb8d770c9f8f04b77f4312dac1a1   \n",
       "4  e3a4131d67aee3f351bda573a9fc6529  2f693ef1a7f5183099951a025840c3dc   \n",
       "\n",
       "   order_date  item_category_id  item_subcategory_id  rev_gbp  \n",
       "0  2017-06-16                 3                   31     1.83  \n",
       "1  2017-01-23                 1                   13     1.51  \n",
       "2  2016-12-06                 1                   13     6.97  \n",
       "3  2017-04-17                 3                   31     7.57  \n",
       "4  2016-07-10                 1                   13     1.73  "
      ]
     },
     "execution_count": 10,
     "metadata": {},
     "output_type": "execute_result"
    }
   ],
   "source": [
    "df_order_all.head()"
   ]
  },
  {
   "cell_type": "code",
   "execution_count": 12,
   "metadata": {},
   "outputs": [
    {
     "data": {
      "text/html": [
       "<div>\n",
       "<style scoped>\n",
       "    .dataframe tbody tr th:only-of-type {\n",
       "        vertical-align: middle;\n",
       "    }\n",
       "\n",
       "    .dataframe tbody tr th {\n",
       "        vertical-align: top;\n",
       "    }\n",
       "\n",
       "    .dataframe thead th {\n",
       "        text-align: right;\n",
       "    }\n",
       "</style>\n",
       "<table border=\"1\" class=\"dataframe\">\n",
       "  <thead>\n",
       "    <tr style=\"text-align: right;\">\n",
       "      <th></th>\n",
       "      <th>member_id</th>\n",
       "      <th>visit_date</th>\n",
       "      <th>os</th>\n",
       "      <th>devicecat</th>\n",
       "      <th>language</th>\n",
       "      <th>channel</th>\n",
       "    </tr>\n",
       "  </thead>\n",
       "  <tbody>\n",
       "    <tr>\n",
       "      <th>0</th>\n",
       "      <td>d36ef0fd8f31f19c1699e956c7fe239a</td>\n",
       "      <td>2017-06-07</td>\n",
       "      <td>1</td>\n",
       "      <td>1</td>\n",
       "      <td>5</td>\n",
       "      <td>1</td>\n",
       "    </tr>\n",
       "    <tr>\n",
       "      <th>1</th>\n",
       "      <td>d5e29109f3f3d9adca0be171e8e9bde7</td>\n",
       "      <td>2017-06-29</td>\n",
       "      <td>1</td>\n",
       "      <td>1</td>\n",
       "      <td>8</td>\n",
       "      <td>3</td>\n",
       "    </tr>\n",
       "    <tr>\n",
       "      <th>2</th>\n",
       "      <td>9817c77dc2461492e7ce81eb1bec70da</td>\n",
       "      <td>2017-06-08</td>\n",
       "      <td>4</td>\n",
       "      <td>1</td>\n",
       "      <td>5</td>\n",
       "      <td>1</td>\n",
       "    </tr>\n",
       "    <tr>\n",
       "      <th>3</th>\n",
       "      <td>4ce69c8e5d2706d2fa83c1318e2d8c76</td>\n",
       "      <td>2017-06-24</td>\n",
       "      <td>1</td>\n",
       "      <td>1</td>\n",
       "      <td>5</td>\n",
       "      <td>1</td>\n",
       "    </tr>\n",
       "    <tr>\n",
       "      <th>4</th>\n",
       "      <td>5c3790d928339a08595c6f634c891ccc</td>\n",
       "      <td>2017-04-06</td>\n",
       "      <td>1</td>\n",
       "      <td>1</td>\n",
       "      <td>5</td>\n",
       "      <td>1</td>\n",
       "    </tr>\n",
       "  </tbody>\n",
       "</table>\n",
       "</div>"
      ],
      "text/plain": [
       "                          member_id  visit_date  os  devicecat  language  \\\n",
       "0  d36ef0fd8f31f19c1699e956c7fe239a  2017-06-07   1          1         5   \n",
       "1  d5e29109f3f3d9adca0be171e8e9bde7  2017-06-29   1          1         8   \n",
       "2  9817c77dc2461492e7ce81eb1bec70da  2017-06-08   4          1         5   \n",
       "3  4ce69c8e5d2706d2fa83c1318e2d8c76  2017-06-24   1          1         5   \n",
       "4  5c3790d928339a08595c6f634c891ccc  2017-04-06   1          1         5   \n",
       "\n",
       "   channel  \n",
       "0        1  \n",
       "1        3  \n",
       "2        1  \n",
       "3        1  \n",
       "4        1  "
      ]
     },
     "execution_count": 12,
     "metadata": {},
     "output_type": "execute_result"
    }
   ],
   "source": [
    "df_visits_all.head()"
   ]
  },
  {
   "cell_type": "markdown",
   "metadata": {},
   "source": [
    "Discard June for feature creation"
   ]
  },
  {
   "cell_type": "code",
   "execution_count": 56,
   "metadata": {},
   "outputs": [],
   "source": [
    "df_order = df_order_all[(df_order_all['order_date'] < '2017-06-01')]\n",
    "df_visits = df_visits_all[(df_visits_all['visit_date'] < '2017-06-01')]\n"
   ]
  },
  {
   "cell_type": "markdown",
   "metadata": {},
   "source": [
    "Create Dummy Vars"
   ]
  },
  {
   "cell_type": "code",
   "execution_count": 57,
   "metadata": {},
   "outputs": [],
   "source": [
    "cat_vars=['item_category_id','item_subcategory_id']\n",
    "for var in cat_vars:\n",
    "    cat_list='var'+'_'+var\n",
    "    cat_list = pd.get_dummies(df_order[var], prefix=var)\n",
    "    df_order1=df_order.join(cat_list)\n",
    "    df_order=df_order1"
   ]
  },
  {
   "cell_type": "code",
   "execution_count": 58,
   "metadata": {},
   "outputs": [],
   "source": [
    "cat_vars=['os','devicecat','language','channel']\n",
    "for var in cat_vars:\n",
    "    cat_list='var'+'_'+var\n",
    "    cat_list = pd.get_dummies(df_visits[var], prefix=var)\n",
    "    df_visits1=df_visits.join(cat_list)\n",
    "    df_visits=df_visits1"
   ]
  },
  {
   "cell_type": "code",
   "execution_count": 185,
   "metadata": {},
   "outputs": [
    {
     "data": {
      "text/plain": [
       "dtype('<M8[ns]')"
      ]
     },
     "execution_count": 185,
     "metadata": {},
     "output_type": "execute_result"
    }
   ],
   "source": [
    "#date type\n",
    "df_order['order_date'].dtype"
   ]
  },
  {
   "cell_type": "code",
   "execution_count": 68,
   "metadata": {},
   "outputs": [],
   "source": [
    "#convert date\n",
    "df_order['order_date'] = pd.to_datetime(df_order['order_date'])"
   ]
  },
  {
   "cell_type": "markdown",
   "metadata": {},
   "source": [
    "Summarise data down to member level"
   ]
  },
  {
   "cell_type": "code",
   "execution_count": 79,
   "metadata": {
    "scrolled": true
   },
   "outputs": [],
   "source": [
    "df_order_summary = df_order.groupby('member_id').agg({'order_date': lambda x: (today - x.max()).days, \n",
    "                                          'order_id': \"count\", \n",
    "                                          'item_category_id': \"count\",\n",
    "                                          'item_subcategory_id': \"count\",\n",
    "                                          'item_category_id_1': \"sum\",\n",
    "                                          'item_category_id_3': \"sum\",\n",
    "                                          'item_category_id_5': \"sum\",\n",
    "                                          'item_subcategory_id_11': \"sum\",\n",
    "                                          'item_subcategory_id_13': \"sum\",\n",
    "                                          'item_subcategory_id_16': \"sum\",\n",
    "                                          'item_subcategory_id_31': \"sum\",\n",
    "                                          'item_subcategory_id_51': \"sum\"\n",
    "                                        })"
   ]
  },
  {
   "cell_type": "markdown",
   "metadata": {},
   "source": [
    "Check for nulls"
   ]
  },
  {
   "cell_type": "code",
   "execution_count": 59,
   "metadata": {
    "scrolled": false
   },
   "outputs": [
    {
     "data": {
      "text/plain": [
       "member_id                 0.0\n",
       "order_id                  0.0\n",
       "order_date                0.0\n",
       "item_category_id          0.0\n",
       "item_subcategory_id       0.0\n",
       "rev_gbp                   0.0\n",
       "item_category_id_1        0.0\n",
       "item_category_id_3        0.0\n",
       "item_category_id_5        0.0\n",
       "item_subcategory_id_11    0.0\n",
       "item_subcategory_id_13    0.0\n",
       "item_subcategory_id_16    0.0\n",
       "item_subcategory_id_31    0.0\n",
       "item_subcategory_id_51    0.0\n",
       "dtype: float64"
      ]
     },
     "execution_count": 59,
     "metadata": {},
     "output_type": "execute_result"
    }
   ],
   "source": [
    "df_order.isnull().sum()/df_order.shape[0]"
   ]
  },
  {
   "cell_type": "code",
   "execution_count": 77,
   "metadata": {},
   "outputs": [],
   "source": [
    "#convert date\n",
    "df_visits['visit_date'] = pd.to_datetime(df_visits['visit_date'])"
   ]
  },
  {
   "cell_type": "code",
   "execution_count": 80,
   "metadata": {
    "scrolled": true
   },
   "outputs": [],
   "source": [
    "#Summarise data down to member level\n",
    "df_visits_summary = df_visits.groupby('member_id').agg({'visit_date': lambda x: (today - x.max()).days, \n",
    "                                          'os': \"count\", \n",
    "                                          'devicecat': \"count\",\n",
    "                                          'language': \"count\",\n",
    "                                          'channel': \"count\",            \n",
    "                                          'os_1': \"sum\",\n",
    "                                          'os_2': \"sum\",\n",
    "                                          'os_3': \"sum\",\n",
    "                                          'os_4': \"sum\",\n",
    "                                          'os_8': \"sum\",\n",
    "                                          'os_9': \"sum\",\n",
    "                                          'devicecat_1': \"sum\",\n",
    "                                          'devicecat_2': \"sum\",\n",
    "                                          'devicecat_3': \"sum\",                                          \n",
    "                                          'language_1': \"sum\",\n",
    "                                          'language_2': \"sum\",\n",
    "                                          'language_3': \"sum\",\n",
    "                                          'language_4': \"sum\",\n",
    "                                          'language_5': \"sum\",\n",
    "                                          'language_6': \"sum\",\n",
    "                                          'language_7': \"sum\",\n",
    "                                          'language_8': \"sum\",\n",
    "                                          'language_9': \"sum\",\n",
    "                                          'channel_1': \"sum\",\n",
    "                                          'channel_2': \"sum\",\n",
    "                                          'channel_3': \"sum\",\n",
    "                                          'channel_4': \"sum\",\n",
    "                                          'channel_5': \"sum\",\n",
    "                                          'channel_6': \"sum\",\n",
    "                                          'channel_7': \"sum\",\n",
    "                                          'channel_8': \"sum\",\n",
    "                                          'channel_9': \"sum\"                                                      \n",
    "                                        })"
   ]
  },
  {
   "cell_type": "markdown",
   "metadata": {},
   "source": [
    "Merge orders and visits vars"
   ]
  },
  {
   "cell_type": "code",
   "execution_count": 82,
   "metadata": {},
   "outputs": [],
   "source": [
    "on_cols = ['member_id']\n",
    "\n",
    "df_all = pd.merge(df_order_summary, df_visits_summary, on= on_cols)"
   ]
  },
  {
   "cell_type": "code",
   "execution_count": 83,
   "metadata": {
    "scrolled": true
   },
   "outputs": [
    {
     "data": {
      "text/html": [
       "<div>\n",
       "<style scoped>\n",
       "    .dataframe tbody tr th:only-of-type {\n",
       "        vertical-align: middle;\n",
       "    }\n",
       "\n",
       "    .dataframe tbody tr th {\n",
       "        vertical-align: top;\n",
       "    }\n",
       "\n",
       "    .dataframe thead th {\n",
       "        text-align: right;\n",
       "    }\n",
       "</style>\n",
       "<table border=\"1\" class=\"dataframe\">\n",
       "  <thead>\n",
       "    <tr style=\"text-align: right;\">\n",
       "      <th></th>\n",
       "      <th>order_date</th>\n",
       "      <th>order_id</th>\n",
       "      <th>item_category_id</th>\n",
       "      <th>item_subcategory_id</th>\n",
       "      <th>item_category_id_1</th>\n",
       "      <th>item_category_id_3</th>\n",
       "      <th>item_category_id_5</th>\n",
       "      <th>item_subcategory_id_11</th>\n",
       "      <th>item_subcategory_id_13</th>\n",
       "      <th>item_subcategory_id_16</th>\n",
       "      <th>item_subcategory_id_31</th>\n",
       "      <th>item_subcategory_id_51</th>\n",
       "      <th>visit_date</th>\n",
       "      <th>os</th>\n",
       "      <th>devicecat</th>\n",
       "      <th>language</th>\n",
       "      <th>channel</th>\n",
       "      <th>os_1</th>\n",
       "      <th>os_2</th>\n",
       "      <th>os_3</th>\n",
       "      <th>os_4</th>\n",
       "      <th>os_8</th>\n",
       "      <th>os_9</th>\n",
       "      <th>devicecat_1</th>\n",
       "      <th>devicecat_2</th>\n",
       "      <th>devicecat_3</th>\n",
       "      <th>language_1</th>\n",
       "      <th>language_2</th>\n",
       "      <th>language_3</th>\n",
       "      <th>language_4</th>\n",
       "      <th>language_5</th>\n",
       "      <th>language_6</th>\n",
       "      <th>language_7</th>\n",
       "      <th>language_8</th>\n",
       "      <th>language_9</th>\n",
       "      <th>channel_1</th>\n",
       "      <th>channel_2</th>\n",
       "      <th>channel_3</th>\n",
       "      <th>channel_4</th>\n",
       "      <th>channel_5</th>\n",
       "      <th>channel_6</th>\n",
       "      <th>channel_7</th>\n",
       "      <th>channel_8</th>\n",
       "      <th>channel_9</th>\n",
       "    </tr>\n",
       "    <tr>\n",
       "      <th>member_id</th>\n",
       "      <th></th>\n",
       "      <th></th>\n",
       "      <th></th>\n",
       "      <th></th>\n",
       "      <th></th>\n",
       "      <th></th>\n",
       "      <th></th>\n",
       "      <th></th>\n",
       "      <th></th>\n",
       "      <th></th>\n",
       "      <th></th>\n",
       "      <th></th>\n",
       "      <th></th>\n",
       "      <th></th>\n",
       "      <th></th>\n",
       "      <th></th>\n",
       "      <th></th>\n",
       "      <th></th>\n",
       "      <th></th>\n",
       "      <th></th>\n",
       "      <th></th>\n",
       "      <th></th>\n",
       "      <th></th>\n",
       "      <th></th>\n",
       "      <th></th>\n",
       "      <th></th>\n",
       "      <th></th>\n",
       "      <th></th>\n",
       "      <th></th>\n",
       "      <th></th>\n",
       "      <th></th>\n",
       "      <th></th>\n",
       "      <th></th>\n",
       "      <th></th>\n",
       "      <th></th>\n",
       "      <th></th>\n",
       "      <th></th>\n",
       "      <th></th>\n",
       "      <th></th>\n",
       "      <th></th>\n",
       "      <th></th>\n",
       "      <th></th>\n",
       "      <th></th>\n",
       "      <th></th>\n",
       "    </tr>\n",
       "  </thead>\n",
       "  <tbody>\n",
       "    <tr>\n",
       "      <th>00001f5554977595a5d9f2597dc74759</th>\n",
       "      <td>260</td>\n",
       "      <td>1</td>\n",
       "      <td>1</td>\n",
       "      <td>1</td>\n",
       "      <td>0</td>\n",
       "      <td>1</td>\n",
       "      <td>0</td>\n",
       "      <td>0</td>\n",
       "      <td>0</td>\n",
       "      <td>0</td>\n",
       "      <td>1</td>\n",
       "      <td>0</td>\n",
       "      <td>260</td>\n",
       "      <td>1</td>\n",
       "      <td>1</td>\n",
       "      <td>1</td>\n",
       "      <td>1</td>\n",
       "      <td>0.0</td>\n",
       "      <td>0</td>\n",
       "      <td>0</td>\n",
       "      <td>1.0</td>\n",
       "      <td>0</td>\n",
       "      <td>0</td>\n",
       "      <td>1.0</td>\n",
       "      <td>0</td>\n",
       "      <td>0</td>\n",
       "      <td>0.0</td>\n",
       "      <td>0</td>\n",
       "      <td>1.0</td>\n",
       "      <td>0</td>\n",
       "      <td>0.0</td>\n",
       "      <td>0</td>\n",
       "      <td>0</td>\n",
       "      <td>0</td>\n",
       "      <td>0</td>\n",
       "      <td>1</td>\n",
       "      <td>0</td>\n",
       "      <td>0</td>\n",
       "      <td>0</td>\n",
       "      <td>0</td>\n",
       "      <td>0</td>\n",
       "      <td>0</td>\n",
       "      <td>0</td>\n",
       "      <td>0.0</td>\n",
       "    </tr>\n",
       "    <tr>\n",
       "      <th>00044f8dc4a61805b03fb8f545c4468e</th>\n",
       "      <td>184</td>\n",
       "      <td>2</td>\n",
       "      <td>2</td>\n",
       "      <td>2</td>\n",
       "      <td>2</td>\n",
       "      <td>0</td>\n",
       "      <td>0</td>\n",
       "      <td>0</td>\n",
       "      <td>2</td>\n",
       "      <td>0</td>\n",
       "      <td>0</td>\n",
       "      <td>0</td>\n",
       "      <td>82</td>\n",
       "      <td>1</td>\n",
       "      <td>1</td>\n",
       "      <td>1</td>\n",
       "      <td>1</td>\n",
       "      <td>0.0</td>\n",
       "      <td>1</td>\n",
       "      <td>0</td>\n",
       "      <td>0.0</td>\n",
       "      <td>0</td>\n",
       "      <td>0</td>\n",
       "      <td>0.0</td>\n",
       "      <td>0</td>\n",
       "      <td>1</td>\n",
       "      <td>0.0</td>\n",
       "      <td>0</td>\n",
       "      <td>0.0</td>\n",
       "      <td>1</td>\n",
       "      <td>0.0</td>\n",
       "      <td>0</td>\n",
       "      <td>0</td>\n",
       "      <td>0</td>\n",
       "      <td>0</td>\n",
       "      <td>0</td>\n",
       "      <td>0</td>\n",
       "      <td>0</td>\n",
       "      <td>0</td>\n",
       "      <td>0</td>\n",
       "      <td>0</td>\n",
       "      <td>0</td>\n",
       "      <td>0</td>\n",
       "      <td>1.0</td>\n",
       "    </tr>\n",
       "    <tr>\n",
       "      <th>0006ad5f0be4a5205343070c08fa21d7</th>\n",
       "      <td>323</td>\n",
       "      <td>1</td>\n",
       "      <td>1</td>\n",
       "      <td>1</td>\n",
       "      <td>0</td>\n",
       "      <td>1</td>\n",
       "      <td>0</td>\n",
       "      <td>0</td>\n",
       "      <td>0</td>\n",
       "      <td>0</td>\n",
       "      <td>1</td>\n",
       "      <td>0</td>\n",
       "      <td>323</td>\n",
       "      <td>4</td>\n",
       "      <td>4</td>\n",
       "      <td>4</td>\n",
       "      <td>4</td>\n",
       "      <td>4.0</td>\n",
       "      <td>0</td>\n",
       "      <td>0</td>\n",
       "      <td>0.0</td>\n",
       "      <td>0</td>\n",
       "      <td>0</td>\n",
       "      <td>4.0</td>\n",
       "      <td>0</td>\n",
       "      <td>0</td>\n",
       "      <td>0.0</td>\n",
       "      <td>0</td>\n",
       "      <td>0.0</td>\n",
       "      <td>0</td>\n",
       "      <td>4.0</td>\n",
       "      <td>0</td>\n",
       "      <td>0</td>\n",
       "      <td>0</td>\n",
       "      <td>0</td>\n",
       "      <td>2</td>\n",
       "      <td>2</td>\n",
       "      <td>0</td>\n",
       "      <td>0</td>\n",
       "      <td>0</td>\n",
       "      <td>0</td>\n",
       "      <td>0</td>\n",
       "      <td>0</td>\n",
       "      <td>0.0</td>\n",
       "    </tr>\n",
       "    <tr>\n",
       "      <th>000ab7bf9098b2062f1e5c4fd18cb27e</th>\n",
       "      <td>113</td>\n",
       "      <td>2</td>\n",
       "      <td>2</td>\n",
       "      <td>2</td>\n",
       "      <td>0</td>\n",
       "      <td>2</td>\n",
       "      <td>0</td>\n",
       "      <td>0</td>\n",
       "      <td>0</td>\n",
       "      <td>0</td>\n",
       "      <td>2</td>\n",
       "      <td>0</td>\n",
       "      <td>113</td>\n",
       "      <td>3</td>\n",
       "      <td>3</td>\n",
       "      <td>3</td>\n",
       "      <td>3</td>\n",
       "      <td>0.0</td>\n",
       "      <td>0</td>\n",
       "      <td>0</td>\n",
       "      <td>3.0</td>\n",
       "      <td>0</td>\n",
       "      <td>0</td>\n",
       "      <td>3.0</td>\n",
       "      <td>0</td>\n",
       "      <td>0</td>\n",
       "      <td>0.0</td>\n",
       "      <td>0</td>\n",
       "      <td>3.0</td>\n",
       "      <td>0</td>\n",
       "      <td>0.0</td>\n",
       "      <td>0</td>\n",
       "      <td>0</td>\n",
       "      <td>0</td>\n",
       "      <td>0</td>\n",
       "      <td>2</td>\n",
       "      <td>1</td>\n",
       "      <td>0</td>\n",
       "      <td>0</td>\n",
       "      <td>0</td>\n",
       "      <td>0</td>\n",
       "      <td>0</td>\n",
       "      <td>0</td>\n",
       "      <td>0.0</td>\n",
       "    </tr>\n",
       "    <tr>\n",
       "      <th>00139c27ebfc43522288694083bec1a8</th>\n",
       "      <td>16</td>\n",
       "      <td>1</td>\n",
       "      <td>1</td>\n",
       "      <td>1</td>\n",
       "      <td>0</td>\n",
       "      <td>1</td>\n",
       "      <td>0</td>\n",
       "      <td>0</td>\n",
       "      <td>0</td>\n",
       "      <td>0</td>\n",
       "      <td>1</td>\n",
       "      <td>0</td>\n",
       "      <td>16</td>\n",
       "      <td>1</td>\n",
       "      <td>1</td>\n",
       "      <td>1</td>\n",
       "      <td>1</td>\n",
       "      <td>1.0</td>\n",
       "      <td>0</td>\n",
       "      <td>0</td>\n",
       "      <td>0.0</td>\n",
       "      <td>0</td>\n",
       "      <td>0</td>\n",
       "      <td>1.0</td>\n",
       "      <td>0</td>\n",
       "      <td>0</td>\n",
       "      <td>0.0</td>\n",
       "      <td>0</td>\n",
       "      <td>0.0</td>\n",
       "      <td>1</td>\n",
       "      <td>0.0</td>\n",
       "      <td>0</td>\n",
       "      <td>0</td>\n",
       "      <td>0</td>\n",
       "      <td>0</td>\n",
       "      <td>0</td>\n",
       "      <td>0</td>\n",
       "      <td>0</td>\n",
       "      <td>0</td>\n",
       "      <td>0</td>\n",
       "      <td>0</td>\n",
       "      <td>0</td>\n",
       "      <td>0</td>\n",
       "      <td>1.0</td>\n",
       "    </tr>\n",
       "  </tbody>\n",
       "</table>\n",
       "</div>"
      ],
      "text/plain": [
       "                                  order_date  order_id  item_category_id  \\\n",
       "member_id                                                                  \n",
       "00001f5554977595a5d9f2597dc74759         260         1                 1   \n",
       "00044f8dc4a61805b03fb8f545c4468e         184         2                 2   \n",
       "0006ad5f0be4a5205343070c08fa21d7         323         1                 1   \n",
       "000ab7bf9098b2062f1e5c4fd18cb27e         113         2                 2   \n",
       "00139c27ebfc43522288694083bec1a8          16         1                 1   \n",
       "\n",
       "                                  item_subcategory_id  item_category_id_1  \\\n",
       "member_id                                                                   \n",
       "00001f5554977595a5d9f2597dc74759                    1                   0   \n",
       "00044f8dc4a61805b03fb8f545c4468e                    2                   2   \n",
       "0006ad5f0be4a5205343070c08fa21d7                    1                   0   \n",
       "000ab7bf9098b2062f1e5c4fd18cb27e                    2                   0   \n",
       "00139c27ebfc43522288694083bec1a8                    1                   0   \n",
       "\n",
       "                                  item_category_id_3  item_category_id_5  \\\n",
       "member_id                                                                  \n",
       "00001f5554977595a5d9f2597dc74759                   1                   0   \n",
       "00044f8dc4a61805b03fb8f545c4468e                   0                   0   \n",
       "0006ad5f0be4a5205343070c08fa21d7                   1                   0   \n",
       "000ab7bf9098b2062f1e5c4fd18cb27e                   2                   0   \n",
       "00139c27ebfc43522288694083bec1a8                   1                   0   \n",
       "\n",
       "                                  item_subcategory_id_11  \\\n",
       "member_id                                                  \n",
       "00001f5554977595a5d9f2597dc74759                       0   \n",
       "00044f8dc4a61805b03fb8f545c4468e                       0   \n",
       "0006ad5f0be4a5205343070c08fa21d7                       0   \n",
       "000ab7bf9098b2062f1e5c4fd18cb27e                       0   \n",
       "00139c27ebfc43522288694083bec1a8                       0   \n",
       "\n",
       "                                  item_subcategory_id_13  \\\n",
       "member_id                                                  \n",
       "00001f5554977595a5d9f2597dc74759                       0   \n",
       "00044f8dc4a61805b03fb8f545c4468e                       2   \n",
       "0006ad5f0be4a5205343070c08fa21d7                       0   \n",
       "000ab7bf9098b2062f1e5c4fd18cb27e                       0   \n",
       "00139c27ebfc43522288694083bec1a8                       0   \n",
       "\n",
       "                                  item_subcategory_id_16  \\\n",
       "member_id                                                  \n",
       "00001f5554977595a5d9f2597dc74759                       0   \n",
       "00044f8dc4a61805b03fb8f545c4468e                       0   \n",
       "0006ad5f0be4a5205343070c08fa21d7                       0   \n",
       "000ab7bf9098b2062f1e5c4fd18cb27e                       0   \n",
       "00139c27ebfc43522288694083bec1a8                       0   \n",
       "\n",
       "                                  item_subcategory_id_31  \\\n",
       "member_id                                                  \n",
       "00001f5554977595a5d9f2597dc74759                       1   \n",
       "00044f8dc4a61805b03fb8f545c4468e                       0   \n",
       "0006ad5f0be4a5205343070c08fa21d7                       1   \n",
       "000ab7bf9098b2062f1e5c4fd18cb27e                       2   \n",
       "00139c27ebfc43522288694083bec1a8                       1   \n",
       "\n",
       "                                  item_subcategory_id_51  visit_date  os  \\\n",
       "member_id                                                                  \n",
       "00001f5554977595a5d9f2597dc74759                       0         260   1   \n",
       "00044f8dc4a61805b03fb8f545c4468e                       0          82   1   \n",
       "0006ad5f0be4a5205343070c08fa21d7                       0         323   4   \n",
       "000ab7bf9098b2062f1e5c4fd18cb27e                       0         113   3   \n",
       "00139c27ebfc43522288694083bec1a8                       0          16   1   \n",
       "\n",
       "                                  devicecat  language  channel  os_1  os_2  \\\n",
       "member_id                                                                    \n",
       "00001f5554977595a5d9f2597dc74759          1         1        1   0.0     0   \n",
       "00044f8dc4a61805b03fb8f545c4468e          1         1        1   0.0     1   \n",
       "0006ad5f0be4a5205343070c08fa21d7          4         4        4   4.0     0   \n",
       "000ab7bf9098b2062f1e5c4fd18cb27e          3         3        3   0.0     0   \n",
       "00139c27ebfc43522288694083bec1a8          1         1        1   1.0     0   \n",
       "\n",
       "                                  os_3  os_4  os_8  os_9  devicecat_1  \\\n",
       "member_id                                                               \n",
       "00001f5554977595a5d9f2597dc74759     0   1.0     0     0          1.0   \n",
       "00044f8dc4a61805b03fb8f545c4468e     0   0.0     0     0          0.0   \n",
       "0006ad5f0be4a5205343070c08fa21d7     0   0.0     0     0          4.0   \n",
       "000ab7bf9098b2062f1e5c4fd18cb27e     0   3.0     0     0          3.0   \n",
       "00139c27ebfc43522288694083bec1a8     0   0.0     0     0          1.0   \n",
       "\n",
       "                                  devicecat_2  devicecat_3  language_1  \\\n",
       "member_id                                                                \n",
       "00001f5554977595a5d9f2597dc74759            0            0         0.0   \n",
       "00044f8dc4a61805b03fb8f545c4468e            0            1         0.0   \n",
       "0006ad5f0be4a5205343070c08fa21d7            0            0         0.0   \n",
       "000ab7bf9098b2062f1e5c4fd18cb27e            0            0         0.0   \n",
       "00139c27ebfc43522288694083bec1a8            0            0         0.0   \n",
       "\n",
       "                                  language_2  language_3  language_4  \\\n",
       "member_id                                                              \n",
       "00001f5554977595a5d9f2597dc74759           0         1.0           0   \n",
       "00044f8dc4a61805b03fb8f545c4468e           0         0.0           1   \n",
       "0006ad5f0be4a5205343070c08fa21d7           0         0.0           0   \n",
       "000ab7bf9098b2062f1e5c4fd18cb27e           0         3.0           0   \n",
       "00139c27ebfc43522288694083bec1a8           0         0.0           1   \n",
       "\n",
       "                                  language_5  language_6  language_7  \\\n",
       "member_id                                                              \n",
       "00001f5554977595a5d9f2597dc74759         0.0           0           0   \n",
       "00044f8dc4a61805b03fb8f545c4468e         0.0           0           0   \n",
       "0006ad5f0be4a5205343070c08fa21d7         4.0           0           0   \n",
       "000ab7bf9098b2062f1e5c4fd18cb27e         0.0           0           0   \n",
       "00139c27ebfc43522288694083bec1a8         0.0           0           0   \n",
       "\n",
       "                                  language_8  language_9  channel_1  \\\n",
       "member_id                                                             \n",
       "00001f5554977595a5d9f2597dc74759           0           0          1   \n",
       "00044f8dc4a61805b03fb8f545c4468e           0           0          0   \n",
       "0006ad5f0be4a5205343070c08fa21d7           0           0          2   \n",
       "000ab7bf9098b2062f1e5c4fd18cb27e           0           0          2   \n",
       "00139c27ebfc43522288694083bec1a8           0           0          0   \n",
       "\n",
       "                                  channel_2  channel_3  channel_4  channel_5  \\\n",
       "member_id                                                                      \n",
       "00001f5554977595a5d9f2597dc74759          0          0          0          0   \n",
       "00044f8dc4a61805b03fb8f545c4468e          0          0          0          0   \n",
       "0006ad5f0be4a5205343070c08fa21d7          2          0          0          0   \n",
       "000ab7bf9098b2062f1e5c4fd18cb27e          1          0          0          0   \n",
       "00139c27ebfc43522288694083bec1a8          0          0          0          0   \n",
       "\n",
       "                                  channel_6  channel_7  channel_8  channel_9  \n",
       "member_id                                                                     \n",
       "00001f5554977595a5d9f2597dc74759          0          0          0        0.0  \n",
       "00044f8dc4a61805b03fb8f545c4468e          0          0          0        1.0  \n",
       "0006ad5f0be4a5205343070c08fa21d7          0          0          0        0.0  \n",
       "000ab7bf9098b2062f1e5c4fd18cb27e          0          0          0        0.0  \n",
       "00139c27ebfc43522288694083bec1a8          0          0          0        1.0  "
      ]
     },
     "execution_count": 83,
     "metadata": {},
     "output_type": "execute_result"
    }
   ],
   "source": [
    "df_all.head()"
   ]
  },
  {
   "cell_type": "markdown",
   "metadata": {},
   "source": [
    "Create target variable and merge with above"
   ]
  },
  {
   "cell_type": "code",
   "execution_count": 86,
   "metadata": {},
   "outputs": [],
   "source": [
    "df_order_all['order_date'] = pd.to_datetime(df_order_all['order_date'])"
   ]
  },
  {
   "cell_type": "code",
   "execution_count": 121,
   "metadata": {},
   "outputs": [],
   "source": [
    "june_orders = df_order_all[df_order_all['order_date'] >= today]\n",
    "june_shoppers = pd.DataFrame(june_orders['member_id'].unique(),columns=['member_id'])\n",
    "june_shoppers['Shopper'] = 1"
   ]
  },
  {
   "cell_type": "code",
   "execution_count": 134,
   "metadata": {},
   "outputs": [],
   "source": [
    "df_all2 = pd.merge(df_all, june_shoppers, how='left', on= ['member_id'])\n",
    "df_all2 = df_all2.fillna(0)"
   ]
  },
  {
   "cell_type": "markdown",
   "metadata": {},
   "source": [
    "Create splits for modelling"
   ]
  },
  {
   "cell_type": "code",
   "execution_count": 161,
   "metadata": {},
   "outputs": [],
   "source": [
    "X = df_all2.drop(['member_id', 'Shopper'], axis=1)\n",
    "y = df_all2.loc[:, df_all2.columns == 'Shopper']"
   ]
  },
  {
   "cell_type": "markdown",
   "metadata": {},
   "source": [
    "Check for correlation"
   ]
  },
  {
   "cell_type": "code",
   "execution_count": 163,
   "metadata": {},
   "outputs": [],
   "source": [
    "# calculate the correlation matrix\n",
    "corr = X.corr()"
   ]
  },
  {
   "cell_type": "code",
   "execution_count": 165,
   "metadata": {},
   "outputs": [],
   "source": [
    "import seaborn as sns\n",
    "\n",
    "%matplotlib inline \n",
    "# to display charts in jupyter notebook"
   ]
  },
  {
   "cell_type": "code",
   "execution_count": 166,
   "metadata": {
    "scrolled": true
   },
   "outputs": [
    {
     "data": {
      "text/plain": [
       "<matplotlib.axes._subplots.AxesSubplot at 0x2190f438>"
      ]
     },
     "execution_count": 166,
     "metadata": {},
     "output_type": "execute_result"
    },
    {
     "data": {
      "image/png": "[encoded data removed]",
      "text/plain": [
       "<Figure size 432x288 with 2 Axes>"
      ]
     },
     "metadata": {},
     "output_type": "display_data"
    }
   ],
   "source": [
    "# plot the heatmap\n",
    "sns.heatmap(corr, \n",
    "        xticklabels=corr.columns,\n",
    "        yticklabels=corr.columns)"
   ]
  },
  {
   "cell_type": "markdown",
   "metadata": {},
   "source": [
    "Some colinearity but will skip variable reduction for now"
   ]
  },
  {
   "cell_type": "markdown",
   "metadata": {},
   "source": [
    "### Model Creation"
   ]
  },
  {
   "cell_type": "code",
   "execution_count": null,
   "metadata": {
    "collapsed": true
   },
   "outputs": [],
   "source": [
    "#import relevant libs\n",
    "\n",
    "from sklearn.linear_model import LogisticRegression\n",
    "from sklearn.cross_validation import train_test_split\n",
    "from sklearn.metrics import accuracy_score, confusion_matrix\n",
    "\n",
    "#create train/test splits\n",
    "\n",
    "X_train, X_test, y_train, y_test = train_test_split(X, y, test_size=0.1, random_state=0)\n"
   ]
  },
  {
   "cell_type": "code",
   "execution_count": 182,
   "metadata": {
    "scrolled": false
   },
   "outputs": [
    {
     "name": "stderr",
     "output_type": "stream",
     "text": [
      "C:\\Users\\Suhaib.Qazi\\AppData\\Local\\Continuum\\anaconda3\\lib\\site-packages\\sklearn\\utils\\validation.py:578: DataConversionWarning: A column-vector y was passed when a 1d array was expected. Please change the shape of y to (n_samples, ), for example using ravel().\n",
      "  y = column_or_1d(y, warn=True)\n"
     ]
    },
    {
     "name": "stdout",
     "output_type": "stream",
     "text": [
      "Logistic Regression Model accuracy : 0.7375753012048193\n"
     ]
    }
   ],
   "source": [
    "#Create logistic regression model and fit on test data\n",
    "lg = LogisticRegression()\n",
    "lg.fit(X_train,y_train)\n",
    "prediction = lg.predict(X_test)\n",
    "print ('Logistic Regression Model accuracy : {}'.format(accuracy_score(y_test,prediction)))"
   ]
  },
  {
   "cell_type": "markdown",
   "metadata": {},
   "source": [
    "Confusion matrix"
   ]
  },
  {
   "cell_type": "code",
   "execution_count": 183,
   "metadata": {},
   "outputs": [
    {
     "name": "stdout",
     "output_type": "stream",
     "text": [
      "[[1798  108]\n",
      " [ 589  161]]\n"
     ]
    }
   ],
   "source": [
    "from sklearn.metrics import confusion_matrix\n",
    "confusion_matrix = confusion_matrix(y_test, y_pred)\n",
    "print(confusion_matrix)"
   ]
  },
  {
   "cell_type": "markdown",
   "metadata": {},
   "source": [
    "TP is  is 161 - thats 60%\n",
    "\n",
    "Although model accuracy is 74%, TP is lower. This is not unexpected as probability of someone NOT shopping in June is higher than a customer that is - so would be easier to have True Negative by chance."
   ]
  },
  {
   "cell_type": "markdown",
   "metadata": {},
   "source": [
    "# ROC"
   ]
  },
  {
   "cell_type": "code",
   "execution_count": 184,
   "metadata": {
    "scrolled": false
   },
   "outputs": [
    {
     "data": {
      "image/png": "[encoded data removed]",
      "text/plain": [
       "<Figure size 432x288 with 1 Axes>"
      ]
     },
     "metadata": {},
     "output_type": "display_data"
    }
   ],
   "source": [
    "import matplotlib.pyplot as plt \n",
    "plt.rc(\"font\", size=14)\n",
    "from sklearn.metrics import roc_auc_score\n",
    "from sklearn.metrics import roc_curve\n",
    "logit_roc_auc = roc_auc_score(y_test, logreg.predict(X_test))\n",
    "fpr, tpr, thresholds = roc_curve(y_test, logreg.predict_proba(X_test)[:,1])\n",
    "plt.figure()\n",
    "plt.plot(fpr, tpr, label='Logistic Regression (area = %0.2f)' % logit_roc_auc)\n",
    "plt.plot([0, 1], [0, 1],'r--')\n",
    "plt.xlim([0.0, 1.0])\n",
    "plt.ylim([0.0, 1.05])\n",
    "plt.xlabel('False Positive Rate')\n",
    "plt.ylabel('True Positive Rate')\n",
    "plt.title('Receiver operating characteristic')\n",
    "plt.legend(loc=\"lower right\")\n",
    "plt.savefig('Log_ROC')\n",
    "plt.show()"
   ]
  },
  {
   "cell_type": "markdown",
   "metadata": {},
   "source": [
    "Area under curve for ROC is 58% - similar to TP. Shows improvements need to be made on model"
   ]
  },
  {
   "cell_type": "code",
   "execution_count": null,
   "metadata": {},
   "outputs": [],
   "source": []
  }
 ],
 "metadata": {
  "kernelspec": {
   "display_name": "Python 3",
   "language": "python",
   "name": "python3"
  },
  "language_info": {
   "codemirror_mode": {
    "name": "ipython",
    "version": 3
   },
   "file_extension": ".py",
   "mimetype": "text/x-python",
   "name": "python",
   "nbconvert_exporter": "python",
   "pygments_lexer": "ipython3",
   "version": "3.6.5"
  }
 },
 "nbformat": 4,
 "nbformat_minor": 2
}
